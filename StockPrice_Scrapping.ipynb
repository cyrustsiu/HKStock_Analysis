{
 "cells": [
  {
   "cell_type": "code",
   "execution_count": 2,
   "metadata": {},
   "outputs": [],
   "source": [
    "import requests\n",
    "import bs4"
   ]
  },
  {
   "cell_type": "code",
   "execution_count": 3,
   "metadata": {},
   "outputs": [],
   "source": [
    "def getStockPrice(num):\n",
    "\n",
    "    url = 'http://www.aastocks.com/en/stocks/quote/detail-quote.aspx?symbol={}'.format(num)\n",
    "    headers = {\n",
    "    \"User-Agent\": \"Mozilla/5.0 (Windows NT 10.0; Win64; x64) AppleWebKit/537.36 (KHTML, like Gecko) Chrome/84.0.4147.89\",\n",
    "\n",
    "    \"Referer\": \"http://www.aastocks.com/en/stocks/quote/detail-quote.aspx\"\n",
    "    }\n",
    "    \n",
    "    res = requests.get(url, headers = headers)\n",
    "    soup = bs4.BeautifulSoup(res.text,\"lxml\")\n",
    "    title = soup.select('.quote #cp_ucStockBar_litInd_StockName')[0].text\n",
    "    price = soup.select('.content #labelLast span')[0].text.strip(\" \\xa0\")    \n",
    "    \n",
    "    return (title + \"(\" + num + \")\" + \" : \" +price)"
   ]
  },
  {
   "cell_type": "code",
   "execution_count": 8,
   "metadata": {},
   "outputs": [
    {
     "name": "stdout",
     "output_type": "stream",
     "text": [
      "TENCENT(00700) : 527.500\n",
      "HSBC HOLDINGS(0005) : 32.800\n",
      "MTR CORPORATI(0066) : 39.100\n"
     ]
    }
   ],
   "source": [
    "stockList = ['00700','0005','0066']\n",
    "\n",
    "#list stock price\n",
    "for stockNum in stockList:\n",
    "    print(getStockPrice(stockNum))"
   ]
  },
  {
   "cell_type": "code",
   "execution_count": null,
   "metadata": {},
   "outputs": [],
   "source": []
  },
  {
   "cell_type": "code",
   "execution_count": null,
   "metadata": {},
   "outputs": [],
   "source": []
  }
 ],
 "metadata": {
  "kernelspec": {
   "display_name": "Python 3",
   "language": "python",
   "name": "python3"
  },
  "language_info": {
   "codemirror_mode": {
    "name": "ipython",
    "version": 3
   },
   "file_extension": ".py",
   "mimetype": "text/x-python",
   "name": "python",
   "nbconvert_exporter": "python",
   "pygments_lexer": "ipython3",
   "version": "3.7.6"
  }
 },
 "nbformat": 4,
 "nbformat_minor": 4
}
